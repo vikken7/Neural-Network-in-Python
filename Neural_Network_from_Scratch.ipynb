{
 "cells": [
  {
   "cell_type": "code",
   "execution_count": 1,
   "metadata": {},
   "outputs": [],
   "source": [
    "import numpy as np\n",
    "import time\n",
    "import matplotlib.pyplot as plt\n",
    "from scipy.special import expit\n",
    "from keras.datasets import mnist, cifar10\n",
    "from keras.utils import to_categorical"
   ]
  },
  {
   "cell_type": "code",
   "execution_count": 2,
   "metadata": {},
   "outputs": [],
   "source": [
    "class FCNN():\n",
    "    '''\n",
    "    Fully Connected Neural Network\n",
    "\n",
    "    layer_sizes: list of number of neurons in each layer, including input and output.\n",
    "    lr: learning rate hyperparameter\n",
    "    beta: momentum hyperparameter\n",
    "    activation_name: Activation function, either sigmoid or relu\n",
    "    optimizer_name: Gradient Descent Optimization algorithm, either SGD or momentum\n",
    "    '''\n",
    "    def __init__(self, layer_sizes, lr = 0.001, beta = 0.9, activation_name = 'sigmoid',\n",
    "                 optimizer_name = 'SGD'):\n",
    "        self.layer_sizes = layer_sizes\n",
    "        self.number_layers = len(self.layer_sizes)\n",
    "        self.lr = lr\n",
    "        self.beta = beta\n",
    "        \n",
    "        # Dictionary that will hold past epoch update to parameters\n",
    "        # utilized in the momentum gradient descent\n",
    "        # key is the name of the parameters, value is the update\n",
    "        self.past_update = {} \n",
    "        \n",
    "        # Initialize the weights and biases\n",
    "        self.parameters = self.initialize_parameters()\n",
    "        \n",
    "        # Define the activation function of the hidden layers\n",
    "        self.activation, self.der_activation = self.set_activation(activation_name)\n",
    "        \n",
    "        # Define the optimization gradient descent algorithm\n",
    "        self.optimizer = self.set_optimizer(optimizer_name)\n",
    "        \n",
    "        # Save accuracy at each epoch\n",
    "        self.accuracies = []\n",
    "    \n",
    "    # Define activation function and derivative\n",
    "    def set_activation(self, activation_name):\n",
    "        if activation_name == 'sigmoid':\n",
    "            def activation(x):\n",
    "                return self.sigmoid(x)\n",
    "            def der_activation(x):\n",
    "                return self.der_sigmoid(x)\n",
    "            \n",
    "        elif activation_name == 'relu':\n",
    "            def activation(x):\n",
    "                return self.relu(x)\n",
    "            def der_activation(x):\n",
    "                return self.der_relu(x)\n",
    "        \n",
    "        return activation, der_activation\n",
    "    \n",
    "    # Define optimizer\n",
    "    def set_optimizer(self, optimizer_name):\n",
    "        if optimizer_name == 'SGD':\n",
    "            def optimizer(grad_w, grad_b):\n",
    "                return self.SGD_update(grad_w, grad_b)\n",
    "        elif optimizer_name == 'momentum':\n",
    "            def optimizer(grad_w, grad_b):\n",
    "                return self.momentum_update(grad_w, grad_b)\n",
    "        \n",
    "        return optimizer\n",
    "    \n",
    "    # Initialize weights and biases\n",
    "    def initialize_parameters(self):\n",
    "        parameters = {}\n",
    "        for i in range(1, self.number_layers):\n",
    "            #Initializing each parameters according to a standard normal distribution\n",
    "            parameters['W'+str(i)] = np.random.randn(self.layer_sizes[i],\n",
    "                                                     self.layer_sizes[i-1])\n",
    "            parameters['b'+str(i)] = np.random.randn(self.layer_sizes[i])\n",
    "        \n",
    "        return parameters\n",
    "            \n",
    "    # Sigmoid activation function    \n",
    "    def sigmoid(self, x):\n",
    "        # Using scipy.specials.expit() instead of 1/(1+np.exp(-x))\n",
    "        # to avoid overflow\n",
    "        return expit(x)\n",
    "    \n",
    "    # Derivative of the sigmoid\n",
    "    def der_sigmoid(self, x):\n",
    "        return self.sigmoid(x) * (1 - self.sigmoid(x))\n",
    "    \n",
    "    # Rectified Linear unit activation function\n",
    "    def relu(self, x):\n",
    "        return np.maximum(0, x)\n",
    "    \n",
    "    # Derivative of the relu\n",
    "    def der_relu(self, x):\n",
    "        return 1 * (x > np.array(0))\n",
    "    \n",
    "    # Softmax activation function\n",
    "    def softmax(self, x):\n",
    "        # Avoiding underflow or overflow errors\n",
    "        # by subtracting x.max()\n",
    "        exps = np.exp(x - x.max())\n",
    "        return exps / np.sum(exps, axis=0)\n",
    "    \n",
    "    # Derivative softmax function\n",
    "    def der_softmax(self, x):\n",
    "        # Avoiding underflow or overflow errors due to floating point instability:\n",
    "        exps = np.exp(x - x.max())\n",
    "        return exps / np.sum(exps, axis=0) * (1 - exps / np.sum(exps, axis=0))\n",
    "        \n",
    "    # Forward propagation algorithm\n",
    "    # Here we save the activations and Z to use in backpropagation\n",
    "    def forward_propagation(self, data):\n",
    "        inp = data\n",
    "        self.parameters['A0'] = inp\n",
    "        \n",
    "        for i in range(1, self.number_layers):\n",
    "            weights, bias = self.parameters['W'+str(i)], self.parameters['b'+str(i)]\n",
    "            # Taking product of weights and input and adding bias\n",
    "            self.parameters['Z'+str(i)] = np.dot(weights, inp) + bias\n",
    "            \n",
    "            if i != self.number_layers - 1:\n",
    "                # Perform activation\n",
    "                self.parameters['A'+ str(i)] = inp = \\\n",
    "                self.activation(self.parameters['Z'+str(i)])\n",
    "            else:\n",
    "                # If it is the last layer, apply softmax activation\n",
    "                self.parameters['A'+ str(i)] = output = \\\n",
    "                self.softmax(self.parameters['Z'+str(i)])\n",
    "        \n",
    "        return output\n",
    "            \n",
    "    # Backpropagation algorithm\n",
    "    def backward_propagation(self, output, y_train):\n",
    "        # Save the gradient for each parameter\n",
    "        grad_w = {}\n",
    "        grad_b = {}\n",
    "        \n",
    "        # Using Mean Squared Error loss\n",
    "        error = 2 * (output - y_train) / output.shape[0] \\\n",
    "        * self.der_softmax(self.parameters['Z' + str(self.number_layers - 1)])\n",
    "        \n",
    "        # Saving gradient and loss of weights and biases of last layer\n",
    "        grad_w['W'+str(self.number_layers - 1)] = \\\n",
    "        np.outer(error, self.parameters['A' + str(self.number_layers - 2)])\n",
    "        grad_b['b'+str(self.number_layers - 1)] = error\n",
    "        \n",
    "        # Backward propagating derivatives to previous layers\n",
    "        # Saving each gradient of the weights and biases.\n",
    "        for i in range(self.number_layers - 1, 1, -1):\n",
    "            error = np.dot(self.parameters['W'+str(i)].T, error) * \\\n",
    "            self.der_activation(self.parameters['Z'+str(i-1)])\n",
    "            grad_w['W'+str(i-1)] = np.outer(error, self.parameters['A'+str(i-2)])\n",
    "            grad_b['b'+str(i-1)] = error\n",
    "\n",
    "        return grad_w, grad_b\n",
    "    \n",
    "    def SGD_update(self, grad_w, grad_b):\n",
    "        #Update network parameters using Stochastic Gradient Descent.\n",
    "        # parameter = parameter - learning rate * gradient\n",
    "        for key, value in grad_w.items():\n",
    "            self.parameters[key] -= self.lr * value\n",
    "        \n",
    "        for key, value in grad_b.items():\n",
    "            self.parameters[key] -= self.lr * value\n",
    "            \n",
    "    def momentum_update(self, grad_w, grad_b):\n",
    "        # Update network parameters using Gradient Descent with momentum\n",
    "        \n",
    "        # Add keys to dictionary if it is empty\n",
    "        # It will save the previous update of each parameter\n",
    "        if not self.past_update:\n",
    "            for key, value in grad_w.items():\n",
    "                self.past_update[key] = np.zeros(value.shape)\n",
    "            for key, value in grad_b.items():\n",
    "                self.past_update[key] = np.zeros(value.shape)\n",
    "    \n",
    "    \n",
    "        for key, value in grad_w.items():\n",
    "            # Update value of previous epoch for the parameter\n",
    "            v = self.past_update[key]\n",
    "            # Calculate new update based on momentum formula\n",
    "            update = self.beta * v + (1 - self.beta) * value\n",
    "            # Update parameter\n",
    "            self.parameters[key] -= self.lr * update\n",
    "            # Save update amount to utilize in next update\n",
    "            self.past_update[key] = update\n",
    "        \n",
    "        for key, value in grad_b.items():\n",
    "            v = self.past_update[key]\n",
    "            update = self.beta * v + (1 - self.beta) * value\n",
    "            self.parameters[key] -= self.lr * update\n",
    "            self.past_update[key] = update\n",
    "    \n",
    "    # Calculate accuracy for dataset\n",
    "    def accuracy(self, x, y):\n",
    "        predictions = []\n",
    "        for xi, yi in zip(x, y):\n",
    "            # Calculate network output for each x\n",
    "            output = self.forward_propagation(xi)\n",
    "            pred = np.argmax(output)\n",
    "            # Check if it is correct\n",
    "            predictions.append(pred == np.argmax(yi))\n",
    "        \n",
    "        return np.mean(predictions)\n",
    "    \n",
    "    # Training\n",
    "    def train(self, x_train, y_train, x_test, y_test, epochs):\n",
    "        start_time = time.time()\n",
    "        # For each epoch\n",
    "        for i in range(epochs):\n",
    "            # For each data point\n",
    "            for x,y in zip(x_train, y_train):\n",
    "                # Calculate network output bt forward propagation\n",
    "                output = self.forward_propagation(x)\n",
    "                # Calculate gradients based on output by back propagation\n",
    "                grad_w, grad_b = self.backward_propagation(output, y)\n",
    "                # Update network parameters\n",
    "                self.optimizer(grad_w, grad_b)\n",
    "            \n",
    "            # compute and save accuracy\n",
    "            accuracy = self.accuracy(x_test, y_test)\n",
    "            self.accuracies.append(accuracy)\n",
    "            print(f'Epoch: {i}, Elapsed Time: {time.time() - start_time:.2f}s, Accuracy: {accuracy:.2f}')"
   ]
  },
  {
   "cell_type": "markdown",
   "metadata": {},
   "source": [
    "## Training and Results"
   ]
  },
  {
   "cell_type": "markdown",
   "metadata": {},
   "source": [
    "### MNIST"
   ]
  },
  {
   "cell_type": "code",
   "execution_count": 3,
   "metadata": {},
   "outputs": [],
   "source": [
    "(X_train, Y_train), (X_test, Y_test) = mnist.load_data()\n",
    "\n",
    "X_train = np.array([x.flatten() for x in X_train])\n",
    "X_test = np.array([x.flatten() for x in X_test])\n",
    "\n",
    "Y_train = to_categorical(Y_train)\n",
    "Y_test = to_categorical(Y_test)"
   ]
  },
  {
   "cell_type": "code",
   "execution_count": 4,
   "metadata": {},
   "outputs": [
    {
     "name": "stdout",
     "output_type": "stream",
     "text": [
      "Epoch: 0, Elapsed Time: 43.88s, Accuracy: 0.25\n",
      "Epoch: 1, Elapsed Time: 87.80s, Accuracy: 0.39\n",
      "Epoch: 2, Elapsed Time: 131.72s, Accuracy: 0.48\n",
      "Epoch: 3, Elapsed Time: 175.69s, Accuracy: 0.56\n",
      "Epoch: 4, Elapsed Time: 219.61s, Accuracy: 0.62\n",
      "Epoch: 5, Elapsed Time: 263.63s, Accuracy: 0.65\n",
      "Epoch: 6, Elapsed Time: 307.74s, Accuracy: 0.69\n",
      "Epoch: 7, Elapsed Time: 352.56s, Accuracy: 0.71\n",
      "Epoch: 8, Elapsed Time: 396.65s, Accuracy: 0.73\n",
      "Epoch: 9, Elapsed Time: 450.63s, Accuracy: 0.74\n",
      "Epoch: 10, Elapsed Time: 507.62s, Accuracy: 0.75\n",
      "Epoch: 11, Elapsed Time: 564.44s, Accuracy: 0.76\n",
      "Epoch: 12, Elapsed Time: 621.30s, Accuracy: 0.77\n",
      "Epoch: 13, Elapsed Time: 679.12s, Accuracy: 0.78\n",
      "Epoch: 14, Elapsed Time: 736.06s, Accuracy: 0.79\n"
     ]
    }
   ],
   "source": [
    "# Using Stochastic gradient descent\n",
    "net1 = FCNN(layer_sizes = [784, 200, 80, 10], lr = 0.01, optimizer_name = 'SGD')\n",
    "net1.train(X_train, Y_train, X_test, Y_test, 15)"
   ]
  },
  {
   "cell_type": "code",
   "execution_count": 5,
   "metadata": {
    "scrolled": true
   },
   "outputs": [
    {
     "name": "stdout",
     "output_type": "stream",
     "text": [
      "Epoch: 0, Elapsed Time: 126.93s, Accuracy: 0.24\n",
      "Epoch: 1, Elapsed Time: 254.73s, Accuracy: 0.40\n",
      "Epoch: 2, Elapsed Time: 371.13s, Accuracy: 0.50\n",
      "Epoch: 3, Elapsed Time: 529.35s, Accuracy: 0.56\n",
      "Epoch: 4, Elapsed Time: 649.33s, Accuracy: 0.60\n",
      "Epoch: 5, Elapsed Time: 758.84s, Accuracy: 0.64\n",
      "Epoch: 6, Elapsed Time: 900.05s, Accuracy: 0.67\n",
      "Epoch: 7, Elapsed Time: 1058.19s, Accuracy: 0.68\n",
      "Epoch: 8, Elapsed Time: 1213.27s, Accuracy: 0.70\n",
      "Epoch: 9, Elapsed Time: 1363.04s, Accuracy: 0.72\n",
      "Epoch: 10, Elapsed Time: 1474.79s, Accuracy: 0.74\n",
      "Epoch: 11, Elapsed Time: 1601.22s, Accuracy: 0.75\n",
      "Epoch: 12, Elapsed Time: 1742.54s, Accuracy: 0.76\n",
      "Epoch: 13, Elapsed Time: 1848.40s, Accuracy: 0.78\n",
      "Epoch: 14, Elapsed Time: 1989.59s, Accuracy: 0.78\n"
     ]
    }
   ],
   "source": [
    "# Using Momentum gradient descent\n",
    "net2 = FCNN(layer_sizes = [784, 200, 80, 10], lr = 0.01, optimizer_name = 'momentum')\n",
    "net2.train(X_train, Y_train, X_test, Y_test, 15)"
   ]
  },
  {
   "cell_type": "code",
   "execution_count": 6,
   "metadata": {},
   "outputs": [
    {
     "data": {
      "image/png": "[encoded data removed]",
      "text/plain": [
       "<Figure size 432x288 with 1 Axes>"
      ]
     },
     "metadata": {
      "needs_background": "light"
     },
     "output_type": "display_data"
    }
   ],
   "source": [
    "plt.plot(np.arange(0,15), net1.accuracies, label = 'SGD')\n",
    "plt.plot(np.arange(0,15), net2.accuracies, label = 'Momentum')\n",
    "plt.xlabel('Epochs')\n",
    "plt.ylabel('Accuracy')\n",
    "plt.title('MNIST')\n",
    "plt.legend()\n",
    "plt.show()"
   ]
  },
  {
   "cell_type": "markdown",
   "metadata": {},
   "source": [
    "### CIFAR10"
   ]
  },
  {
   "cell_type": "code",
   "execution_count": 7,
   "metadata": {},
   "outputs": [],
   "source": [
    "(X_train, Y_train), (X_test, Y_test) = cifar10.load_data()\n",
    "\n",
    "X_train = np.array([x.flatten() for x in X_train])\n",
    "X_test = np.array([x.flatten() for x in X_test])\n",
    "\n",
    "Y_train = to_categorical(Y_train)\n",
    "Y_test = to_categorical(Y_test)"
   ]
  },
  {
   "cell_type": "code",
   "execution_count": 8,
   "metadata": {},
   "outputs": [
    {
     "name": "stdout",
     "output_type": "stream",
     "text": [
      "Epoch: 0, Elapsed Time: 421.93s, Accuracy: 0.10\n",
      "Epoch: 1, Elapsed Time: 868.91s, Accuracy: 0.10\n",
      "Epoch: 2, Elapsed Time: 1203.17s, Accuracy: 0.10\n",
      "Epoch: 3, Elapsed Time: 1520.83s, Accuracy: 0.11\n",
      "Epoch: 4, Elapsed Time: 1838.02s, Accuracy: 0.14\n"
     ]
    }
   ],
   "source": [
    "# Using Stochastic gradient descent\n",
    "net3 = FCNN(layer_sizes = [3072, 384, 128, 10], lr = 0.01, optimizer_name = 'SGD')\n",
    "net3.train(X_train, Y_train, X_test, Y_test, 5)"
   ]
  },
  {
   "cell_type": "code",
   "execution_count": 9,
   "metadata": {},
   "outputs": [
    {
     "name": "stdout",
     "output_type": "stream",
     "text": [
      "Epoch: 0, Elapsed Time: 771.84s, Accuracy: 0.12\n",
      "Epoch: 1, Elapsed Time: 1600.63s, Accuracy: 0.11\n",
      "Epoch: 2, Elapsed Time: 2447.93s, Accuracy: 0.11\n",
      "Epoch: 3, Elapsed Time: 3197.28s, Accuracy: 0.11\n",
      "Epoch: 4, Elapsed Time: 3942.31s, Accuracy: 0.11\n"
     ]
    }
   ],
   "source": [
    "# Using Momentum gradient descent\n",
    "net4 = FCNN(layer_sizes = [3072, 384, 128, 10], lr = 0.01, optimizer_name = 'momentum')\n",
    "net4.train(X_train, Y_train, X_test, Y_test, 5)"
   ]
  },
  {
   "cell_type": "code",
   "execution_count": 10,
   "metadata": {},
   "outputs": [
    {
     "data": {
      "image/png": "[encoded data removed]",
      "text/plain": [
       "<Figure size 432x288 with 1 Axes>"
      ]
     },
     "metadata": {
      "needs_background": "light"
     },
     "output_type": "display_data"
    }
   ],
   "source": [
    "plt.plot(np.arange(0,5), net3.accuracies,  label = 'SGD')\n",
    "plt.plot(np.arange(0,5), net4.accuracies, label = 'Momentum')\n",
    "plt.xlabel('Epochs')\n",
    "plt.ylabel('Accuracy')\n",
    "plt.title('CIFAR10')\n",
    "plt.legend()\n",
    "plt.show()"
   ]
  },
  {
   "cell_type": "markdown",
   "metadata": {},
   "source": [
    "## Summary\n",
    "The neural network can train and improve on the MNIST dataset. Both Stochastic Gradient Descent and Momentum Gradient Descent obtained almost 80% accuracy after 15 epochs. While on the CIFAR10 dataset, they did not show much improvement in the first 5 epochs. Likely because of the architecture of the network and the amount of training it went through. It has only two hidden layers of size 384 and 128, while the input is of size 3072 (32x32x3), so the network is probably not able to represent and learn the features of the images. A more complex network might obtain better accuracy, but it would also take too long to train.  \n",
    "\n",
    "The positive aspect of this Neural Network is that it is versatile. One can determine the number of layers and neurons on each layer. Thus it can efficiently be utilized on different datasets. It is also possible to change the activation function between sigmoid and ReLU and the optimization method between SGD with and without Momentum. Implementing new activations and optimizers should also be simple, given that all one has to do is define them on the set_activation and set_optimizer methods. The optimizer might have some hyperparameters that also need to be included in the initialization.  \n",
    "\n",
    "The negative aspect of this Neural Network is the time complexity. It updates the weights of the network for each datapoint, which results in a long training time. It could have been faster if it utilized batch or mini-batch gradient descent, so the weights would be updated less, resulting on it running faster. It also does not allow one to customize the hidden layers fully. All the hidden layers utilize the same activation function."
   ]
  }
 ],
 "metadata": {
  "kernelspec": {
   "display_name": "Python 3",
   "language": "python",
   "name": "python3"
  },
  "language_info": {
   "codemirror_mode": {
    "name": "ipython",
    "version": 3
   },
   "file_extension": ".py",
   "mimetype": "text/x-python",
   "name": "python",
   "nbconvert_exporter": "python",
   "pygments_lexer": "ipython3",
   "version": "3.8.5"
  }
 },
 "nbformat": 4,
 "nbformat_minor": 4
}
